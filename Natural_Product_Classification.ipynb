{
 "cells": [
  {
   "cell_type": "markdown",
   "metadata": {},
   "source": [
    "# Natural product classification from BGCs\n",
    "\n",
    "Apply the trained model to classify natural products from BGCs, based on [Walkter & Clardy, 2021](https://pubs.acs.org/doi/10.1021/acs.jcim.0c01304).\n",
    "\n",
    "Briefly, Allison S. Walker and Jon Clardy present an innovative method combining machine learning and bioinformatics to predict the biological activities of natural products from their biosynthetic gene clusters (BGCs). This approach fills a critical gap in current bioinformatics capabilities, enabling the prediction of bioactivities like antibiotic and antifungal properties with up to 80% accuracy. Utilizing a dataset of known BGCs, the authors trained machine learning models, including random forests and support vector machines, to identify specific biosynthetic enzymes and molecular features associated with bioactivity. This method, which showed balanced accuracies between 57% to 80% in various tests, represents a significant advancement in natural product research and holds promise for accelerating the discovery of new antibiotics and therapeutic agents.\n",
    "\n",
    "__NOTES__: \n",
    "\n",
    "1) The original Dockerfile was modified since it was not working properly.\n",
    "2) The model takes two inputs, the AntiMASH 5 output gbk file, and the RGI output txt file\n",
    "3) The model has to be run for every pair of input files."
   ]
  },
  {
   "cell_type": "markdown",
   "metadata": {},
   "source": [
    "## Flatten input directories\n",
    "\n",
    "The input directories should be structured as follows:\n",
    "\n",
    "```\n",
    "input/\n",
    "├── antimash\n",
    "│   ├── 1.gbk\n",
    "│   ├── 2.gbk\n",
    "│   ├── 3.gbk\n",
    "\n",
    "└── rgi\n",
    "    ├── 1.txt\n",
    "    ├── 2.txt\n",
    "    ├── 3.txt\n",
    "```"
   ]
  },
  {
   "cell_type": "code",
   "execution_count": 2,
   "metadata": {},
   "outputs": [],
   "source": [
    "from pathlib import Path\n",
    "from src.helper_functions import flatten_input_directory\n",
    "\n",
    "antiSMASH_nested_dir = Path(\"/home/robaina/Documents/NewAtlantis/bioprospecting/data/galapagos/galapagos_antismash_export\")\n",
    "rgi_nested_dir = Path(\"/home/robaina/Documents/NewAtlantis/bioprospecting/data/galapagos/galapagos_rgi\")\n",
    "antiMASH_output = Path(\"/home/robaina/Documents/NewAtlantis/bioprospecting/data/galapagos/antiSMASH_output\")\n",
    "rgi_output = Path(\"/home/robaina/Documents/NewAtlantis/bioprospecting/data/galapagos/RGI_output\")\n",
    "\n",
    "flatten_input_directory(antiSMASH_nested_dir, antiMASH_output, \".gbk\")\n",
    "flatten_input_directory(rgi_nested_dir, rgi_output, \".txt\")"
   ]
  },
  {
   "cell_type": "code",
   "execution_count": 4,
   "metadata": {},
   "outputs": [],
   "source": [
    "antiSMASH_nested_dir = Path(\"/home/robaina/Documents/NewAtlantis/bioprospecting/data/sola/sola_antismash_export\")\n",
    "rgi_nested_dir = Path(\"/home/robaina/Documents/NewAtlantis/bioprospecting/data/sola/sola_rgi\")\n",
    "antiMASH_output = Path(\"/home/robaina/Documents/NewAtlantis/bioprospecting/data/sola/antiSMASH_output\")\n",
    "rgi_output = Path(\"/home/robaina/Documents/NewAtlantis/bioprospecting/data/sola/RGI_output\")\n",
    "\n",
    "flatten_input_directory(antiSMASH_nested_dir, antiMASH_output, \".gbk\")\n",
    "flatten_input_directory(rgi_nested_dir, rgi_output, \".txt\")"
   ]
  },
  {
   "cell_type": "markdown",
   "metadata": {},
   "source": [
    "## Run docker"
   ]
  },
  {
   "cell_type": "code",
   "execution_count": 1,
   "metadata": {},
   "outputs": [],
   "source": [
    "%%bash \n",
    "\n",
    "work_dir=\"/home/robaina/Documents/NewAtlantis/bioprospecting/Natural-product-function\"\n",
    "input_dir=\"/home/robaina/Documents/NewAtlantis/bioprospecting/data/sola\"\n",
    "output_dir=\"/home/robaina/Documents/NewAtlantis/bioprospecting/data/sola/classified_bgcs\"\n",
    "\n",
    "bash src/classify_products.sh \\\n",
    "    -w \"$work_dir\" \\\n",
    "    -i \"$input_dir\" \\\n",
    "    -o \"$output_dir\" >/dev/null"
   ]
  },
  {
   "cell_type": "markdown",
   "metadata": {},
   "source": [
    "## Parse output files"
   ]
  },
  {
   "cell_type": "code",
   "execution_count": 7,
   "metadata": {},
   "outputs": [
    {
     "data": {
      "text/html": [
       "<div>\n",
       "<style scoped>\n",
       "    .dataframe tbody tr th:only-of-type {\n",
       "        vertical-align: middle;\n",
       "    }\n",
       "\n",
       "    .dataframe tbody tr th {\n",
       "        vertical-align: top;\n",
       "    }\n",
       "\n",
       "    .dataframe thead th {\n",
       "        text-align: right;\n",
       "    }\n",
       "</style>\n",
       "<table border=\"1\" class=\"dataframe\">\n",
       "  <thead>\n",
       "    <tr style=\"text-align: right;\">\n",
       "      <th></th>\n",
       "      <th>tree_classifier</th>\n",
       "      <th>logistic_regression_classifier</th>\n",
       "      <th>svm_classifier</th>\n",
       "    </tr>\n",
       "  </thead>\n",
       "  <tbody>\n",
       "    <tr>\n",
       "      <th>antibacterial</th>\n",
       "      <td>0.463150</td>\n",
       "      <td>0.374236</td>\n",
       "      <td>0.231500</td>\n",
       "    </tr>\n",
       "    <tr>\n",
       "      <th>anti-gram_positive</th>\n",
       "      <td>0.412750</td>\n",
       "      <td>0.220604</td>\n",
       "      <td>0.196497</td>\n",
       "    </tr>\n",
       "    <tr>\n",
       "      <th>anti-gram_negative</th>\n",
       "      <td>0.000000</td>\n",
       "      <td>0.068592</td>\n",
       "      <td>0.071520</td>\n",
       "    </tr>\n",
       "    <tr>\n",
       "      <th>antifugnal_antitumor_cytotoxic</th>\n",
       "      <td>0.000000</td>\n",
       "      <td>0.236482</td>\n",
       "      <td>0.219115</td>\n",
       "    </tr>\n",
       "    <tr>\n",
       "      <th>antifungal</th>\n",
       "      <td>0.004475</td>\n",
       "      <td>0.161470</td>\n",
       "      <td>0.113403</td>\n",
       "    </tr>\n",
       "    <tr>\n",
       "      <th>antitumor_cytotoxic</th>\n",
       "      <td>0.006468</td>\n",
       "      <td>0.123110</td>\n",
       "      <td>0.069044</td>\n",
       "    </tr>\n",
       "  </tbody>\n",
       "</table>\n",
       "</div>"
      ],
      "text/plain": [
       "                                tree_classifier  ...  svm_classifier\n",
       "antibacterial                          0.463150  ...        0.231500\n",
       "anti-gram_positive                     0.412750  ...        0.196497\n",
       "anti-gram_negative                     0.000000  ...        0.071520\n",
       "antifugnal_antitumor_cytotoxic         0.000000  ...        0.219115\n",
       "antifungal                             0.004475  ...        0.113403\n",
       "antitumor_cytotoxic                    0.006468  ...        0.069044\n",
       "\n",
       "[6 rows x 3 columns]"
      ]
     },
     "execution_count": 7,
     "metadata": {},
     "output_type": "execute_result"
    }
   ],
   "source": [
    "from src.helper_functions import parse_activity_classifier_file\n",
    "\n",
    "df = parse_activity_classifier_file('data/galapagos/classified_bgcs/SRR12042300__k127_6814.region001.txt')\n",
    "df"
   ]
  },
  {
   "cell_type": "code",
   "execution_count": 8,
   "metadata": {},
   "outputs": [
    {
     "data": {
      "text/html": [
       "<div>\n",
       "<style scoped>\n",
       "    .dataframe tbody tr th:only-of-type {\n",
       "        vertical-align: middle;\n",
       "    }\n",
       "\n",
       "    .dataframe tbody tr th {\n",
       "        vertical-align: top;\n",
       "    }\n",
       "\n",
       "    .dataframe thead th {\n",
       "        text-align: right;\n",
       "    }\n",
       "</style>\n",
       "<table border=\"1\" class=\"dataframe\">\n",
       "  <thead>\n",
       "    <tr style=\"text-align: right;\">\n",
       "      <th></th>\n",
       "      <th>antibacterial</th>\n",
       "      <th>anti-gram_positive</th>\n",
       "      <th>anti-gram_negative</th>\n",
       "      <th>antifugnal_antitumor_cytotoxic</th>\n",
       "      <th>antifungal</th>\n",
       "      <th>antitumor_cytotoxic</th>\n",
       "    </tr>\n",
       "  </thead>\n",
       "  <tbody>\n",
       "    <tr>\n",
       "      <th>ERR2604081__k119_229758.region001</th>\n",
       "      <td>0</td>\n",
       "      <td>0</td>\n",
       "      <td>0</td>\n",
       "      <td>0</td>\n",
       "      <td>0</td>\n",
       "      <td>0</td>\n",
       "    </tr>\n",
       "    <tr>\n",
       "      <th>ERR2604094__k119_51552.region001</th>\n",
       "      <td>0</td>\n",
       "      <td>0</td>\n",
       "      <td>0</td>\n",
       "      <td>0</td>\n",
       "      <td>0</td>\n",
       "      <td>0</td>\n",
       "    </tr>\n",
       "    <tr>\n",
       "      <th>ERR2604091__k119_74002.region001</th>\n",
       "      <td>0</td>\n",
       "      <td>0</td>\n",
       "      <td>0</td>\n",
       "      <td>0</td>\n",
       "      <td>0</td>\n",
       "      <td>0</td>\n",
       "    </tr>\n",
       "    <tr>\n",
       "      <th>ERR2604091__k119_145788.region001</th>\n",
       "      <td>0</td>\n",
       "      <td>0</td>\n",
       "      <td>0</td>\n",
       "      <td>0</td>\n",
       "      <td>0</td>\n",
       "      <td>0</td>\n",
       "    </tr>\n",
       "    <tr>\n",
       "      <th>ERR2604090__k119_31395.region001</th>\n",
       "      <td>0</td>\n",
       "      <td>0</td>\n",
       "      <td>0</td>\n",
       "      <td>0</td>\n",
       "      <td>0</td>\n",
       "      <td>0</td>\n",
       "    </tr>\n",
       "  </tbody>\n",
       "</table>\n",
       "</div>"
      ],
      "text/plain": [
       "                                   antibacterial  anti-gram_positive  \\\n",
       "ERR2604081__k119_229758.region001              0                   0   \n",
       "ERR2604094__k119_51552.region001               0                   0   \n",
       "ERR2604091__k119_74002.region001               0                   0   \n",
       "ERR2604091__k119_145788.region001              0                   0   \n",
       "ERR2604090__k119_31395.region001               0                   0   \n",
       "\n",
       "                                   anti-gram_negative  \\\n",
       "ERR2604081__k119_229758.region001                   0   \n",
       "ERR2604094__k119_51552.region001                    0   \n",
       "ERR2604091__k119_74002.region001                    0   \n",
       "ERR2604091__k119_145788.region001                   0   \n",
       "ERR2604090__k119_31395.region001                    0   \n",
       "\n",
       "                                   antifugnal_antitumor_cytotoxic  antifungal  \\\n",
       "ERR2604081__k119_229758.region001                               0           0   \n",
       "ERR2604094__k119_51552.region001                                0           0   \n",
       "ERR2604091__k119_74002.region001                                0           0   \n",
       "ERR2604091__k119_145788.region001                               0           0   \n",
       "ERR2604090__k119_31395.region001                                0           0   \n",
       "\n",
       "                                   antitumor_cytotoxic  \n",
       "ERR2604081__k119_229758.region001                    0  \n",
       "ERR2604094__k119_51552.region001                     0  \n",
       "ERR2604091__k119_74002.region001                     0  \n",
       "ERR2604091__k119_145788.region001                    0  \n",
       "ERR2604090__k119_31395.region001                     0  "
      ]
     },
     "execution_count": 8,
     "metadata": {},
     "output_type": "execute_result"
    }
   ],
   "source": [
    "from src.helper_functions import compile_natural_product_data\n",
    "\n",
    "results = compile_natural_product_data(\n",
    "    'data/sola/classified_bgcs',\n",
    "    'mean',\n",
    "\n",
    "    classification_cutoff=0.6\n",
    "    )\n",
    "results.head()"
   ]
  },
  {
   "cell_type": "markdown",
   "metadata": {},
   "source": [
    "## Plot results"
   ]
  },
  {
   "cell_type": "code",
   "execution_count": 9,
   "metadata": {},
   "outputs": [
    {
     "data": {
      "image/png": "[encoded data removed]",
      "text/plain": [
       "<Figure size 640x480 with 1 Axes>"
      ]
     },
     "metadata": {},
     "output_type": "display_data"
    }
   ],
   "source": [
    "ax = results.sum(axis=0).sort_values(ascending=False).plot.bar()"
   ]
  }
 ],
 "metadata": {
  "kernelspec": {
   "display_name": "phycogem",
   "language": "python",
   "name": "python3"
  },
  "language_info": {
   "codemirror_mode": {
    "name": "ipython",
    "version": 3
   },
   "file_extension": ".py",
   "mimetype": "text/x-python",
   "name": "python",
   "nbconvert_exporter": "python",
   "pygments_lexer": "ipython3",
   "version": "3.11.4"
  }
 },
 "nbformat": 4,
 "nbformat_minor": 2
}
